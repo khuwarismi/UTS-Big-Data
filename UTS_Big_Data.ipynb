{
  "nbformat": 4,
  "nbformat_minor": 0,
  "metadata": {
    "colab": {
      "name": "UTS_Big_Data.ipynb",
      "provenance": [],
      "collapsed_sections": [],
      "authorship_tag": "ABX9TyO8h3rVGAEFcn+0oWr1RZh1",
      "include_colab_link": true
    },
    "kernelspec": {
      "name": "python3",
      "display_name": "Python 3"
    },
    "language_info": {
      "name": "python"
    }
  },
  "cells": [
    {
      "cell_type": "markdown",
      "metadata": {
        "id": "view-in-github",
        "colab_type": "text"
      },
      "source": [
        "<a href=\"https://colab.research.google.com/github/khuwarismi/UTS-Big-Data/blob/main/UTS_Big_Data.ipynb\" target=\"_parent\"><img src=\"https://colab.research.google.com/assets/colab-badge.svg\" alt=\"Open In Colab\"/></a>"
      ]
    },
    {
      "cell_type": "code",
      "metadata": {
        "colab": {
          "base_uri": "https://localhost:8080/"
        },
        "id": "oGyYMEmZHXa_",
        "outputId": "0a44e96a-edcb-4381-8c7c-cb9ee9cf276a"
      },
      "source": [
        "import nltk\n",
        "nltk.download('punkt')"
      ],
      "execution_count": 3,
      "outputs": [
        {
          "output_type": "stream",
          "text": [
            "[nltk_data] Downloading package punkt to /root/nltk_data...\n",
            "[nltk_data]   Unzipping tokenizers/punkt.zip.\n"
          ],
          "name": "stdout"
        },
        {
          "output_type": "execute_result",
          "data": {
            "text/plain": [
              "True"
            ]
          },
          "metadata": {
            "tags": []
          },
          "execution_count": 3
        }
      ]
    },
    {
      "cell_type": "code",
      "metadata": {
        "colab": {
          "base_uri": "https://localhost:8080/"
        },
        "id": "sTeRdaeQIBdT",
        "outputId": "1f940375-f7ed-4502-f32c-16cc4d0a427f"
      },
      "source": [
        "# importing modules\n",
        "from nltk.stem import PorterStemmer\n",
        "from nltk.tokenize import word_tokenize\n",
        "   \n",
        "ps = PorterStemmer()\n",
        "   \n",
        "sentence = \"aku bangga jadi mahasiswa UNUSIDA\"\n",
        "words = word_tokenize(sentence)\n",
        "   \n",
        "for w in words:\n",
        "    print(w, \" : \", ps.stem(w))"
      ],
      "execution_count": 5,
      "outputs": [
        {
          "output_type": "stream",
          "text": [
            "aku  :  aku\n",
            "bangga  :  bangga\n",
            "jadi  :  jadi\n",
            "mahasiswa  :  mahasiswa\n",
            "UNUSIDA  :  unusida\n"
          ],
          "name": "stdout"
        }
      ]
    },
    {
      "cell_type": "code",
      "metadata": {
        "colab": {
          "base_uri": "https://localhost:8080/"
        },
        "id": "WiQpy78-H841",
        "outputId": "8e66f310-2381-4ec5-dc3f-6b77b68d5e02"
      },
      "source": [
        "kalimat = \"aku bangga jadi mahasiswa UNUSIDA\"\n",
        "pisah = kalimat.split()\n",
        "print(pisah)"
      ],
      "execution_count": 1,
      "outputs": [
        {
          "output_type": "stream",
          "text": [
            "['aku', 'bangga', 'jadi', 'mahasiswa', 'UNUSIDA']\n"
          ],
          "name": "stdout"
        }
      ]
    },
    {
      "cell_type": "code",
      "metadata": {
        "colab": {
          "base_uri": "https://localhost:8080/"
        },
        "id": "LihJyUIJJlnT",
        "outputId": "777c4a3c-5dc5-43d6-c23e-1c1bc41cca17"
      },
      "source": [
        "# impor word_tokenize dari modul nltk\n",
        "from nltk.tokenize import word_tokenize \n",
        " \n",
        "kalimat = \"aku bangga jadi mahasiswa UNUSIDA.\"\n",
        " \n",
        "tokens = nltk.tokenize.word_tokenize(kalimat)\n",
        "print(tokens)"
      ],
      "execution_count": 4,
      "outputs": [
        {
          "output_type": "stream",
          "text": [
            "['aku', 'bangga', 'jadi', 'mahasiswa', 'UNUSIDA', '.']\n"
          ],
          "name": "stdout"
        }
      ]
    }
  ]
}